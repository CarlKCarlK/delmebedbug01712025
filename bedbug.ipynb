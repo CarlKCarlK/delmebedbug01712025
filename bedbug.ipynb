{
 "cells": [
  {
   "cell_type": "code",
   "execution_count": 1,
   "metadata": {},
   "outputs": [
    {
     "data": {
      "text/plain": [
       "[np.str_('chr19:10707416:G:A')]"
      ]
     },
     "execution_count": 1,
     "metadata": {},
     "output_type": "execute_result"
    }
   ],
   "source": [
    "# repro bug https://github.com/fastlmm/PySnpTools/issues/9\n",
    "\n",
    "from pysnptools.snpreader import Bed\n",
    "bedfile = \"toydata.5chrom.bed\"\n",
    "\n",
    "bed = Bed(bedfile,count_A1 = True)\n",
    "snp_ids = bed.sid\n",
    "test_snp = [s for s in snp_ids if \"10707416\" in s]\n",
    "test_snp\n"
   ]
  },
  {
   "cell_type": "code",
   "execution_count": null,
   "metadata": {},
   "outputs": [],
   "source": []
  }
 ],
 "metadata": {
  "kernelspec": {
   "display_name": ".venv",
   "language": "python",
   "name": "python3"
  },
  "language_info": {
   "codemirror_mode": {
    "name": "ipython",
    "version": 3
   },
   "file_extension": ".py",
   "mimetype": "text/x-python",
   "name": "python",
   "nbconvert_exporter": "python",
   "pygments_lexer": "ipython3",
   "version": "3.9.21"
  }
 },
 "nbformat": 4,
 "nbformat_minor": 2
}
