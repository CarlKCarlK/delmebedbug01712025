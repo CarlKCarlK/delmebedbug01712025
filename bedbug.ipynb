{
    "cells": [
        {
            "cell_type": "code",
            "execution_count": 2,
            "metadata": {},
            "outputs": [
                {
                    "data": {
                        "text/plain": [
                            "[np.str_('chr19:10707416:G:A')]"
                        ]
                    },
                    "execution_count": 2,
                    "metadata": {},
                    "output_type": "execute_result"
                }
            ],
            "source": [
                "# repro bug https://github.com/fastlmm/PySnpTools/issues/9\n",
                "\n",
                "from pysnptools.snpreader import Bed\n",
                "bedfile = \"toydata.5chrom.bed\"\n",
                "\n",
                "bed = Bed(bedfile,count_A1 = True)\n",
                "snp_ids = bed.sid\n",
                "test_snp = [s for s in snp_ids if \"10707416\" in s]\n",
                "test_snp\n"
            ]
        },
        {
            "cell_type": "code",
            "execution_count": 1,
            "metadata": {},
            "outputs": [
                {
                    "name": "stderr",
                    "output_type": "stream",
                    "text": [
                        "o:\\Projects\\Science\\users\\sahwa\\.venv\\lib\\site-packages\\bed_reader\\_open_bed.py:1344: RuntimeWarning: invalid value encountered in cast\n",
                        "  output = np.array(input, dtype=dtype)\n",
                        "o:\\Projects\\Science\\users\\sahwa\\.venv\\lib\\site-packages\\pysnptools\\snpreader\\bed.py:96: FutureWarning: 'count_A1' was not set. For now it will default to 'False', but in the future it will default to 'True'\n",
                        "  warnings.warn(\n"
                    ]
                },
                {
                    "name": "stdout",
                    "output_type": "stream",
                    "text": [
                        "Shape of generated data: (10, 283252)\n"
                    ]
                }
            ],
            "source": [
                "import numpy as np\n",
                "from pysnptools.snpreader import Bed\n",
                "from pysnptools.util import create_directory_if_necessary\n",
                "\n",
                "# Generate random SNP data\n",
                "iid_count = 10\n",
                "sid_count = 283252\n",
                "\n",
                "# Create random IIDs (individual IDs)\n",
                "iids = np.array([[f'iid_{i}', f'fam_{i}'] for i in range(iid_count)])\n",
                "\n",
                "# Create random SIDs (SNP IDs)\n",
                "sids = np.array([f'sid_{i}' for i in range(sid_count)])\n",
                "\n",
                "# Generate random SNP values (0,1,2 representing genotypes)\n",
                "val = np.random.choice([0.0, 1.0, 2.0], size=(iid_count, sid_count))\n",
                "\n",
                "# Save to bed file format\n",
                "from pysnptools.snpreader import SnpData\n",
                "snpdata = SnpData(iid=iids, sid=sids, val=val)\n",
                "output_prefix = 'random_snps'\n",
                "create_directory_if_necessary(output_prefix)\n",
                "Bed.write(output_prefix, snpdata)\n",
                "\n",
                "# Verify the data\n",
                "bed = Bed(output_prefix)\n",
                "print(f\"Shape of generated data: {bed.shape}\")"
            ]
        },
        {
            "cell_type": "code",
            "execution_count": 1,
            "metadata": {},
            "outputs": [
                {
                    "data": {
                        "text/plain": [
                            "['chr19:10707416:G:A']"
                        ]
                    },
                    "execution_count": 1,
                    "metadata": {},
                    "output_type": "execute_result"
                }
            ],
            "source": [
                "# repro bug https://github.com/fastlmm/PySnpTools/issues/9\n",
                "\n",
                "from pysnptools.snpreader import Bed\n",
                "bedfile = \"random_snps.bed\"\n",
                "\n",
                "bed = Bed(bedfile,count_A1 = True, bim_filename=\"CKB_Rsq0.6_FS_PO_hg38_chr19.bim\")\n",
                "snp_ids = bed.sid\n",
                "test_snp = [s for s in snp_ids if \"10707416\" in s]\n",
                "test_snp\n"
            ]
        },
        {
            "cell_type": "code",
            "execution_count": null,
            "metadata": {},
            "outputs": [],
            "source": []
        }
    ],
    "metadata": {
        "kernelspec": {
            "display_name": ".venv",
            "language": "python",
            "name": "python3"
        },
        "language_info": {
            "codemirror_mode": {
                "name": "ipython",
                "version": 3
            },
            "file_extension": ".py",
            "mimetype": "text/x-python",
            "name": "python",
            "nbconvert_exporter": "python",
            "pygments_lexer": "ipython3",
            "version": "3.9.21"
        }
    },
    "nbformat": 4,
    "nbformat_minor": 2
}